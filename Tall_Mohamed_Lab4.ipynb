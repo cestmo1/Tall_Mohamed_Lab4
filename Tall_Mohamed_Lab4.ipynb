{
 "cells": [
  {
   "cell_type": "code",
   "execution_count": null,
   "id": "6fa1cb60-3637-433c-a109-0611fb9ebba3",
   "metadata": {},
   "outputs": [],
   "source": [
    "import pandas as pd\n"
   ]
  },
  {
   "cell_type": "code",
   "execution_count": null,
   "id": "ff1ff089-ca7a-4a32-b12a-35fe90cda604",
   "metadata": {},
   "outputs": [],
   "source": [
    "# Load the Excel file and inspect sheet names\n",
    "file_path = \"Week 4 Lab Data.xlsx\"\n",
    "data = pd.ExcelFile(file_path)\n",
    "\n",
    "# Check the sheet names to identify the correct sheet\n",
    "print(data.sheet_names)\n",
    "\n",
    "# Load the desired sheet (replace 'Sheet1' with the actual sheet name if different)\n",
    "d1 = data.parse('Sheet1')\n"
   ]
  },
  {
   "cell_type": "code",
   "execution_count": null,
   "id": "eba769ca-c473-4fb6-a230-a4f0d7e6c422",
   "metadata": {},
   "outputs": [],
   "source": [
    "# Rows and columns\n",
    "print(\"Number of rows:\", d1.shape[0])\n",
    "print(\"Number of columns:\", d1.shape[1])\n"
   ]
  },
  {
   "cell_type": "code",
   "execution_count": null,
   "id": "cb3f6789-434c-4312-8710-2ec661bf0a40",
   "metadata": {},
   "outputs": [],
   "source": [
    "# Count numeric and non-numeric columns\n",
    "numeric_cols = d1.select_dtypes(include=['int64', 'float64']).columns\n",
    "non_numeric_cols = d1.select_dtypes(exclude=['int64', 'float64']).columns\n",
    "\n",
    "print(\"Number of numeric variables:\", len(numeric_cols))\n",
    "print(\"Number of non-numeric variables:\", len(non_numeric_cols))\n"
   ]
  },
  {
   "cell_type": "code",
   "execution_count": null,
   "id": "00cf33b6-1e9c-4e14-a809-e140a183cde9",
   "metadata": {},
   "outputs": [],
   "source": [
    "# Drop the ID column\n",
    "if 'ID' in d1.columns:\n",
    "    d1 = d1.drop(columns=['ID'])\n"
   ]
  },
  {
   "cell_type": "code",
   "execution_count": null,
   "id": "8614e854-e89f-4926-b113-37893375ae1d",
   "metadata": {},
   "outputs": [],
   "source": [
    "# Check missing values for specific columns\n",
    "missing_mofb = d1['MOFB'].isnull().sum()\n",
    "missing_yob = d1['YOB'].isnull().sum()\n",
    "missing_aor = d1['AOR'].isnull().sum()\n",
    "\n",
    "print(f\"Missing values - MOFB: {missing_mofb}, YOB: {missing_yob}, AOR: {missing_aor}\")\n"
   ]
  },
  {
   "cell_type": "code",
   "execution_count": null,
   "id": "54c83fe2-47c9-4bed-a5f8-bdcc8feec68c",
   "metadata": {},
   "outputs": [],
   "source": [
    "# Select specific variables\n",
    "d2_columns = ['RMOB', 'WI', 'RCA', 'Religion', 'Region', 'AOR', 'HEL', \n",
    "              'DOB_CMC', 'DOFB_CMC', 'MTFBI', 'RW', 'NV', 'RBMI']\n",
    "d2 = d1[d2_columns]\n"
   ]
  },
  {
   "cell_type": "code",
   "execution_count": null,
   "id": "568bba7c-ad0e-4ab9-9c0d-682aa0386878",
   "metadata": {},
   "outputs": [],
   "source": [
    "# Create a column with the count of missing values for each row\n",
    "d2['MISSING'] = d2.isnull().sum(axis=1)\n"
   ]
  },
  {
   "cell_type": "code",
   "execution_count": null,
   "id": "175c294a-1034-430a-a678-ad2226ba9323",
   "metadata": {},
   "outputs": [],
   "source": [
    "# Remove rows with any missing values\n",
    "d3 = d2.dropna()\n",
    "\n",
    "# Compare rows in d1 and d3\n",
    "print(f\"Number of rows in d1: {d1.shape[0]}, d3: {d3.shape[0]}\")\n"
   ]
  },
  {
   "cell_type": "code",
   "execution_count": null,
   "id": "6b4f1f8a-f928-43b2-9fe3-8d99272f80f3",
   "metadata": {},
   "outputs": [],
   "source": [
    "# Summary statistics\n",
    "print(d3.describe())\n"
   ]
  },
  {
   "cell_type": "code",
   "execution_count": null,
   "id": "585ac315-a302-42f8-8924-e6001490e9e7",
   "metadata": {},
   "outputs": [],
   "source": [
    "# Sort columns alphabetically\n",
    "d3 = d3[sorted(d3.columns)]\n"
   ]
  },
  {
   "cell_type": "code",
   "execution_count": null,
   "id": "a6a640bf-4dd4-4221-a1e8-8783f5276521",
   "metadata": {},
   "outputs": [],
   "source": [
    "# Average of specific columns\n",
    "d3['New_Average'] = d3[['DOB_CMC', 'DOFB_CMC', 'MTFBI']].mean(axis=1)\n"
   ]
  },
  {
   "cell_type": "code",
   "execution_count": null,
   "id": "656ee2b0-58cc-4ce0-b871-0b1fda94fda8",
   "metadata": {},
   "outputs": [],
   "source": [
    "# Recode Religion variable\n",
    "d3['Newreligion'] = d3['Religion'].apply(lambda x: '1' if x == 1 else '2')\n"
   ]
  },
  {
   "cell_type": "code",
   "execution_count": null,
   "id": "2a12893b-e0b3-4942-9171-cd78c3a21833",
   "metadata": {},
   "outputs": [],
   "source": [
    "# Recode MTFBI\n",
    "def recode_mtfbi(val):\n",
    "    if val < 9:\n",
    "        return 1\n",
    "    elif 9 <= val < 24:\n",
    "        return 2\n",
    "    else:\n",
    "        return 3\n",
    "\n",
    "d3['BIC'] = d3['MTFBI'].apply(recode_mtfbi)\n"
   ]
  },
  {
   "cell_type": "code",
   "execution_count": null,
   "id": "fc6f05be-60b5-4ebc-b4d0-719084871c88",
   "metadata": {},
   "outputs": [],
   "source": [
    "# Label BIC categories\n",
    "d3['Text'] = d3['BIC'].replace({1: 'Early', 2: 'Average', 3: 'Late'})\n"
   ]
  },
  {
   "cell_type": "code",
   "execution_count": null,
   "id": "3e88fa15-d4cf-45a6-a853-e5bbef5115c9",
   "metadata": {},
   "outputs": [],
   "source": [
    "# Standard deviation of MTFBI for each NV category\n",
    "std_mtfbi_by_nv = d3.groupby('NV')['MTFBI'].std()\n",
    "print(std_mtfbi_by_nv)\n"
   ]
  },
  {
   "cell_type": "code",
   "execution_count": null,
   "id": "6ae292a9-d20c-4882-b484-9c068352bac4",
   "metadata": {},
   "outputs": [],
   "source": [
    "# Frequency table for Region and HEL\n",
    "freq_table = pd.crosstab(d3['Region'], d3['HEL'])\n",
    "print(freq_table)\n"
   ]
  },
  {
   "cell_type": "code",
   "execution_count": null,
   "id": "1cea9d8d-9887-4a4f-8142-c7cf8fb75209",
   "metadata": {},
   "outputs": [],
   "source": [
    "# Three-way frequency table for Text, Region, and HEL\n",
    "three_way_table = pd.crosstab([d3['Text'], d3['Region']], d3['HEL'])\n",
    "print(three_way_table)\n"
   ]
  },
  {
   "cell_type": "code",
   "execution_count": null,
   "id": "a06e84b8-40fb-4ba6-97d1-332a9b8fce59",
   "metadata": {},
   "outputs": [],
   "source": [
    "# Add newid column\n",
    "d3['newid'] = range(1, len(d3) + 1)\n"
   ]
  }
 ],
 "metadata": {
  "kernelspec": {
   "display_name": "Python 3 (ipykernel)",
   "language": "python",
   "name": "python3"
  },
  "language_info": {
   "codemirror_mode": {
    "name": "ipython",
    "version": 3
   },
   "file_extension": ".py",
   "mimetype": "text/x-python",
   "name": "python",
   "nbconvert_exporter": "python",
   "pygments_lexer": "ipython3",
   "version": "3.11.7"
  }
 },
 "nbformat": 4,
 "nbformat_minor": 5
}
